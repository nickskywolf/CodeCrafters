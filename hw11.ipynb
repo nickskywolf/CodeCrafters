{
  "nbformat": 4,
  "nbformat_minor": 0,
  "metadata": {
    "colab": {
      "provenance": [],
      "gpuType": "T4",
      "authorship_tag": "ABX9TyOOdrypSuNcaAI/BjH5/h93",
      "include_colab_link": true
    },
    "kernelspec": {
      "name": "python3",
      "display_name": "Python 3"
    },
    "language_info": {
      "name": "python"
    },
    "accelerator": "GPU"
  },
  "cells": [
    {
      "cell_type": "markdown",
      "metadata": {
        "id": "view-in-github",
        "colab_type": "text"
      },
      "source": [
        "<a href=\"https://colab.research.google.com/github/nickskywolf/CodeCrafters/blob/main/hw11.ipynb\" target=\"_parent\"><img src=\"https://colab.research.google.com/assets/colab-badge.svg\" alt=\"Open In Colab\"/></a>"
      ]
    },
    {
      "cell_type": "code",
      "execution_count": null,
      "metadata": {
        "id": "7ccSc-xg7ozL",
        "colab": {
          "base_uri": "https://localhost:8080/"
        },
        "outputId": "8f3e022f-578f-4c5a-91b6-44940d25b85d"
      },
      "outputs": [
        {
          "output_type": "stream",
          "name": "stdout",
          "text": [
            "Downloading data from https://storage.googleapis.com/tensorflow/tf-keras-datasets/imdb.npz\n",
            "17464789/17464789 [==============================] - 0s 0us/step\n"
          ]
        }
      ],
      "source": [
        "import numpy as np\n",
        "from keras.datasets import imdb\n",
        "from keras.preprocessing import sequence\n",
        "from keras.models import Sequential\n",
        "from keras.layers import Embedding, LSTM, Dense, Bidirectional, SimpleRNN\n",
        "\n",
        "# Задаємо кількість слів у відгуку та обмежуємо максимальну довжину\n",
        "max_features = 10000  # обмежуємо кількість слів до 10,000\n",
        "maxlen = 200  # обмежуємо довжину відгуку до 200 слів\n",
        "\n",
        "# Завантажуємо дані та розділяємо на тренувальний та тестувальний набори\n",
        "(x_train, y_train), (x_test, y_test) = imdb.load_data(num_words=max_features)\n",
        "\n",
        "# Обмежуємо довжину відгуків\n",
        "x_train = sequence.pad_sequences(x_train, maxlen=maxlen)\n",
        "x_test = sequence.pad_sequences(x_test, maxlen=maxlen)\n"
      ]
    },
    {
      "cell_type": "code",
      "source": [
        "# Функція для створення та компіляції моделі\n",
        "def create_model(model_type):\n",
        "    model = Sequential()\n",
        "\n",
        "    if model_type == \"RNN\":\n",
        "        model.add(Embedding(max_features, 128, input_length=maxlen))\n",
        "        model.add(SimpleRNN(64))\n",
        "    elif model_type == \"LSTM\":\n",
        "        model.add(Embedding(max_features, 128, input_length=maxlen))\n",
        "        model.add(LSTM(64))\n",
        "    elif model_type == \"Bidirectional LSTM\":\n",
        "        model.add(Embedding(max_features, 128, input_length=maxlen))\n",
        "        model.add(Bidirectional(LSTM(64)))\n",
        "\n",
        "    model.add(Dense(1, activation='sigmoid'))\n",
        "    model.compile(optimizer='adam', loss='binary_crossentropy', metrics=['accuracy'])\n",
        "    return model\n",
        "\n",
        "# Створюємо та компілюємо моделі\n",
        "rnn_model = create_model(\"RNN\")\n",
        "lstm_model = create_model(\"LSTM\")\n",
        "bidirectional_lstm_model = create_model(\"Bidirectional LSTM\")\n",
        "\n",
        "# Тренуємо моделі\n",
        "rnn_model.fit(x_train, y_train, epochs=5, batch_size=32, validation_data=(x_test, y_test))\n",
        "lstm_model.fit(x_train, y_train, epochs=5, batch_size=32, validation_data=(x_test, y_test))\n",
        "bidirectional_lstm_model.fit(x_train, y_train, epochs=5, batch_size=32, validation_data=(x_test, y_test))\n"
      ],
      "metadata": {
        "id": "p7-VlN_R8ouB",
        "colab": {
          "base_uri": "https://localhost:8080/"
        },
        "outputId": "015a7be9-ae79-4785-e46d-bf8c525b9e05"
      },
      "execution_count": null,
      "outputs": [
        {
          "output_type": "stream",
          "name": "stdout",
          "text": [
            "Epoch 1/5\n",
            "782/782 [==============================] - 91s 114ms/step - loss: 0.5983 - accuracy: 0.6629 - val_loss: 0.5337 - val_accuracy: 0.7346\n",
            "Epoch 2/5\n",
            "782/782 [==============================] - 90s 116ms/step - loss: 0.4815 - accuracy: 0.7736 - val_loss: 0.5794 - val_accuracy: 0.6927\n",
            "Epoch 3/5\n",
            "782/782 [==============================] - 89s 114ms/step - loss: 0.5278 - accuracy: 0.7340 - val_loss: 0.6298 - val_accuracy: 0.6323\n",
            "Epoch 4/5\n",
            "782/782 [==============================] - 89s 113ms/step - loss: 0.4793 - accuracy: 0.7696 - val_loss: 0.6112 - val_accuracy: 0.6663\n",
            "Epoch 5/5\n",
            "782/782 [==============================] - 81s 103ms/step - loss: 0.4117 - accuracy: 0.8131 - val_loss: 0.5454 - val_accuracy: 0.7521\n",
            "Epoch 1/5\n",
            "782/782 [==============================] - 162s 203ms/step - loss: 0.4111 - accuracy: 0.8113 - val_loss: 0.3441 - val_accuracy: 0.8530\n",
            "Epoch 2/5\n",
            "782/782 [==============================] - 160s 205ms/step - loss: 0.2465 - accuracy: 0.9038 - val_loss: 0.3571 - val_accuracy: 0.8552\n",
            "Epoch 3/5\n",
            "782/782 [==============================] - 171s 219ms/step - loss: 0.1746 - accuracy: 0.9340 - val_loss: 0.3557 - val_accuracy: 0.8651\n",
            "Epoch 4/5\n",
            "782/782 [==============================] - 172s 220ms/step - loss: 0.1268 - accuracy: 0.9544 - val_loss: 0.3831 - val_accuracy: 0.8610\n",
            "Epoch 5/5\n",
            "782/782 [==============================] - 171s 219ms/step - loss: 0.0897 - accuracy: 0.9688 - val_loss: 0.4564 - val_accuracy: 0.8603\n",
            "Epoch 1/5\n",
            "782/782 [==============================] - 273s 343ms/step - loss: 0.4213 - accuracy: 0.8068 - val_loss: 0.4089 - val_accuracy: 0.8307\n",
            "Epoch 2/5\n",
            "782/782 [==============================] - 299s 383ms/step - loss: 0.2766 - accuracy: 0.8870 - val_loss: 0.3208 - val_accuracy: 0.8704\n",
            "Epoch 3/5\n",
            "782/782 [==============================] - 299s 383ms/step - loss: 0.1847 - accuracy: 0.9295 - val_loss: 0.3981 - val_accuracy: 0.8638\n",
            "Epoch 4/5\n",
            "782/782 [==============================] - 299s 382ms/step - loss: 0.1411 - accuracy: 0.9489 - val_loss: 0.4032 - val_accuracy: 0.8644\n",
            "Epoch 5/5\n",
            "782/782 [==============================] - 299s 382ms/step - loss: 0.1073 - accuracy: 0.9626 - val_loss: 0.5199 - val_accuracy: 0.8597\n"
          ]
        },
        {
          "output_type": "execute_result",
          "data": {
            "text/plain": [
              "<keras.src.callbacks.History at 0x7ab084072fe0>"
            ]
          },
          "metadata": {},
          "execution_count": 2
        }
      ]
    },
    {
      "cell_type": "code",
      "source": [
        "import matplotlib.pyplot as plt\n",
        "\n",
        "# Точність моделей на тестових даних\n",
        "rnn_accuracy = rnn_model.evaluate(x_test, y_test)[1]\n",
        "lstm_accuracy = lstm_model.evaluate(x_test, y_test)[1]\n",
        "bidirectional_lstm_accuracy = bidirectional_lstm_model.evaluate(x_test, y_test)[1]\n",
        "\n",
        "# Виведення результатів\n",
        "print(\"Результати порівняння точності моделей на тестових даних:\")\n",
        "print(f\"Проста RNN: {rnn_accuracy}\")\n",
        "print(f\"LSTM: {lstm_accuracy}\")\n",
        "print(f\"Bidirectional LSTM: {bidirectional_lstm_accuracy}\")\n",
        "\n",
        "# Візуалізація результатів\n",
        "plt.bar(['RNN', 'LSTM', 'Bidirectional LSTM'], [rnn_accuracy, lstm_accuracy, bidirectional_lstm_accuracy])\n",
        "plt.xlabel('Модель')\n",
        "plt.ylabel('Точність')\n",
        "plt.title('Порівняння точності моделей')\n",
        "plt.show()\n",
        "\n",
        "# Висновок\n",
        "print(\"Висновок:\")\n",
        "if bidirectional_lstm_accuracy > lstm_accuracy and bidirectional_lstm_accuracy > rnn_accuracy:\n",
        "    print(\"Модель Bidirectional LSTM показала найкращі результати.\")\n",
        "elif lstm_accuracy > rnn_accuracy:\n",
        "    print(\"Модель LSTM показала найкращі результати.\")\n",
        "else:\n",
        "    print(\"Модель Simple RNN показала найкращі результати.\")\n"
      ],
      "metadata": {
        "colab": {
          "base_uri": "https://localhost:8080/",
          "height": 219
        },
        "id": "6GIOIx6ww03l",
        "outputId": "fd374a28-0659-497a-f76b-efc2dc66e999"
      },
      "execution_count": 1,
      "outputs": [
        {
          "output_type": "error",
          "ename": "NameError",
          "evalue": "name 'rnn_model' is not defined",
          "traceback": [
            "\u001b[0;31m---------------------------------------------------------------------------\u001b[0m",
            "\u001b[0;31mNameError\u001b[0m                                 Traceback (most recent call last)",
            "\u001b[0;32m<ipython-input-1-871fbd9f334d>\u001b[0m in \u001b[0;36m<cell line: 4>\u001b[0;34m()\u001b[0m\n\u001b[1;32m      2\u001b[0m \u001b[0;34m\u001b[0m\u001b[0m\n\u001b[1;32m      3\u001b[0m \u001b[0;31m# Точність моделей на тестових даних\u001b[0m\u001b[0;34m\u001b[0m\u001b[0;34m\u001b[0m\u001b[0m\n\u001b[0;32m----> 4\u001b[0;31m \u001b[0mrnn_accuracy\u001b[0m \u001b[0;34m=\u001b[0m \u001b[0mrnn_model\u001b[0m\u001b[0;34m.\u001b[0m\u001b[0mevaluate\u001b[0m\u001b[0;34m(\u001b[0m\u001b[0mx_test\u001b[0m\u001b[0;34m,\u001b[0m \u001b[0my_test\u001b[0m\u001b[0;34m)\u001b[0m\u001b[0;34m[\u001b[0m\u001b[0;36m1\u001b[0m\u001b[0;34m]\u001b[0m\u001b[0;34m\u001b[0m\u001b[0;34m\u001b[0m\u001b[0m\n\u001b[0m\u001b[1;32m      5\u001b[0m \u001b[0mlstm_accuracy\u001b[0m \u001b[0;34m=\u001b[0m \u001b[0mlstm_model\u001b[0m\u001b[0;34m.\u001b[0m\u001b[0mevaluate\u001b[0m\u001b[0;34m(\u001b[0m\u001b[0mx_test\u001b[0m\u001b[0;34m,\u001b[0m \u001b[0my_test\u001b[0m\u001b[0;34m)\u001b[0m\u001b[0;34m[\u001b[0m\u001b[0;36m1\u001b[0m\u001b[0;34m]\u001b[0m\u001b[0;34m\u001b[0m\u001b[0;34m\u001b[0m\u001b[0m\n\u001b[1;32m      6\u001b[0m \u001b[0mbidirectional_lstm_accuracy\u001b[0m \u001b[0;34m=\u001b[0m \u001b[0mbidirectional_lstm_model\u001b[0m\u001b[0;34m.\u001b[0m\u001b[0mevaluate\u001b[0m\u001b[0;34m(\u001b[0m\u001b[0mx_test\u001b[0m\u001b[0;34m,\u001b[0m \u001b[0my_test\u001b[0m\u001b[0;34m)\u001b[0m\u001b[0;34m[\u001b[0m\u001b[0;36m1\u001b[0m\u001b[0;34m]\u001b[0m\u001b[0;34m\u001b[0m\u001b[0;34m\u001b[0m\u001b[0m\n",
            "\u001b[0;31mNameError\u001b[0m: name 'rnn_model' is not defined"
          ]
        }
      ]
    },
    {
      "cell_type": "code",
      "source": [
        "import numpy as np\n",
        "from keras.datasets import imdb\n",
        "from keras.preprocessing import sequence\n",
        "from keras.models import Sequential\n",
        "from keras.layers import Embedding, LSTM, Dense, Bidirectional, SimpleRNN\n",
        "\n",
        "# Задаємо кількість слів у відгуку та обмежуємо максимальну довжину\n",
        "max_features = 10000  # обмежуємо кількість слів до 10,000\n",
        "maxlen = 200  # обмежуємо довжину відгуку до 200 слів\n",
        "\n",
        "# Завантаження данних та розділення на тренувальний та тестувальний набори\n",
        "(x_train, y_train), (x_test, y_test) = imdb.load_data(num_words=max_features)\n",
        "\n",
        "# Обмеження довжини відгуків\n",
        "x_train = sequence.pad_sequences(x_train, maxlen=maxlen)\n",
        "x_test = sequence.pad_sequences(x_test, maxlen=maxlen)\n",
        "\n",
        "# Функція для створення та компіляції моделі\n",
        "def create_model(model_type):\n",
        "    model = Sequential()\n",
        "\n",
        "    if model_type == \"RNN\":\n",
        "        model.add(Embedding(max_features, 128, input_length=maxlen))\n",
        "        model.add(SimpleRNN(64))\n",
        "    elif model_type == \"LSTM\":\n",
        "        model.add(Embedding(max_features, 128, input_length=maxlen))\n",
        "        model.add(LSTM(64))\n",
        "    elif model_type == \"Bidirectional LSTM\":\n",
        "        model.add(Embedding(max_features, 128, input_length=maxlen))\n",
        "        model.add(Bidirectional(LSTM(64)))\n",
        "\n",
        "    model.add(Dense(1, activation='sigmoid'))\n",
        "    model.compile(optimizer='adam', loss='binary_crossentropy', metrics=['accuracy'])\n",
        "    return model\n",
        "\n",
        "# Створення та компіляція моделей\n",
        "rnn_model = create_model(\"RNN\")\n",
        "lstm_model = create_model(\"LSTM\")\n",
        "bidirectional_lstm_model = create_model(\"Bidirectional LSTM\")\n",
        "\n",
        "# Тренування моделей\n",
        "rnn_model.fit(x_train, y_train, epochs=5, batch_size=32, validation_data=(x_test, y_test))\n",
        "lstm_model.fit(x_train, y_train, epochs=5, batch_size=32, validation_data=(x_test, y_test))\n",
        "bidirectional_lstm_model.fit(x_train, y_train, epochs=5, batch_size=32, validation_data=(x_test, y_test))\n",
        "\n",
        "# Порівняння та виведення результатів\n",
        "import matplotlib.pyplot as plt\n",
        "\n",
        "# Точність моделей на тестових даних\n",
        "rnn_accuracy = rnn_model.evaluate(x_test, y_test)[1]\n",
        "lstm_accuracy = lstm_model.evaluate(x_test, y_test)[1]\n",
        "bidirectional_lstm_accuracy = bidirectional_lstm_model.evaluate(x_test, y_test)[1]\n",
        "\n",
        "# Виведення результатів\n",
        "print(\"Результати порівняння точності моделей на тестових даних:\")\n",
        "print(f\"Проста RNN: {rnn_accuracy}\")\n",
        "print(f\"LSTM: {lstm_accuracy}\")\n",
        "print(f\"Bidirectional LSTM: {bidirectional_lstm_accuracy}\")\n",
        "\n",
        "# Візуалізація результатів\n",
        "plt.bar(['RNN', 'LSTM', 'Bidirectional LSTM'], [rnn_accuracy, lstm_accuracy, bidirectional_lstm_accuracy])\n",
        "plt.xlabel('Модель')\n",
        "plt.ylabel('Точність')\n",
        "plt.title('Порівняння точності моделей')\n",
        "plt.show()\n",
        "\n",
        "# Висновок\n",
        "print(\"Висновок:\")\n",
        "if bidirectional_lstm_accuracy > lstm_accuracy and bidirectional_lstm_accuracy > rnn_accuracy:\n",
        "    print(\"Модель Bidirectional LSTM показала найкращі результати.\")\n",
        "elif lstm_accuracy > rnn_accuracy:\n",
        "    print(\"Модель LSTM показала найкращі результати.\")\n",
        "else:\n",
        "    print(\"Модель Simple RNN показала найкращі результати.\")\n"
      ],
      "metadata": {
        "colab": {
          "base_uri": "https://localhost:8080/",
          "height": 1000
        },
        "id": "714E1MoDxX2d",
        "outputId": "9e3443a2-bdfa-436d-b6c6-80b9ca5f1c28"
      },
      "execution_count": 1,
      "outputs": [
        {
          "output_type": "stream",
          "name": "stdout",
          "text": [
            "Downloading data from https://storage.googleapis.com/tensorflow/tf-keras-datasets/imdb.npz\n",
            "17464789/17464789 [==============================] - 0s 0us/step\n",
            "Epoch 1/5\n",
            "782/782 [==============================] - 187s 231ms/step - loss: 0.5523 - accuracy: 0.7140 - val_loss: 0.4500 - val_accuracy: 0.8021\n",
            "Epoch 2/5\n",
            "782/782 [==============================] - 158s 202ms/step - loss: 0.4672 - accuracy: 0.7828 - val_loss: 0.6188 - val_accuracy: 0.6428\n",
            "Epoch 3/5\n",
            "782/782 [==============================] - 148s 190ms/step - loss: 0.5319 - accuracy: 0.7273 - val_loss: 0.5843 - val_accuracy: 0.6851\n",
            "Epoch 4/5\n",
            "782/782 [==============================] - 157s 200ms/step - loss: 0.4290 - accuracy: 0.8028 - val_loss: 0.5956 - val_accuracy: 0.6931\n",
            "Epoch 5/5\n",
            "782/782 [==============================] - 155s 198ms/step - loss: 0.3427 - accuracy: 0.8516 - val_loss: 0.5128 - val_accuracy: 0.7745\n",
            "Epoch 1/5\n",
            "782/782 [==============================] - 43s 51ms/step - loss: 0.3937 - accuracy: 0.8224 - val_loss: 0.3278 - val_accuracy: 0.8663\n",
            "Epoch 2/5\n",
            "782/782 [==============================] - 17s 22ms/step - loss: 0.2448 - accuracy: 0.9058 - val_loss: 0.3205 - val_accuracy: 0.8718\n",
            "Epoch 3/5\n",
            "782/782 [==============================] - 15s 19ms/step - loss: 0.1666 - accuracy: 0.9394 - val_loss: 0.4061 - val_accuracy: 0.8575\n",
            "Epoch 4/5\n",
            "782/782 [==============================] - 15s 19ms/step - loss: 0.1265 - accuracy: 0.9544 - val_loss: 0.4282 - val_accuracy: 0.8534\n",
            "Epoch 5/5\n",
            "782/782 [==============================] - 12s 16ms/step - loss: 0.1019 - accuracy: 0.9649 - val_loss: 0.4244 - val_accuracy: 0.8628\n",
            "Epoch 1/5\n",
            "782/782 [==============================] - 50s 59ms/step - loss: 0.4029 - accuracy: 0.8190 - val_loss: 0.3538 - val_accuracy: 0.8573\n",
            "Epoch 2/5\n",
            "782/782 [==============================] - 22s 29ms/step - loss: 0.2514 - accuracy: 0.8999 - val_loss: 0.3459 - val_accuracy: 0.8564\n",
            "Epoch 3/5\n",
            "782/782 [==============================] - 25s 31ms/step - loss: 0.1922 - accuracy: 0.9262 - val_loss: 0.3452 - val_accuracy: 0.8686\n",
            "Epoch 4/5\n",
            "782/782 [==============================] - 19s 24ms/step - loss: 0.1325 - accuracy: 0.9517 - val_loss: 0.3777 - val_accuracy: 0.8635\n",
            "Epoch 5/5\n",
            "782/782 [==============================] - 19s 24ms/step - loss: 0.1022 - accuracy: 0.9644 - val_loss: 0.4357 - val_accuracy: 0.8459\n",
            "782/782 [==============================] - 13s 17ms/step - loss: 0.5128 - accuracy: 0.7745\n",
            "782/782 [==============================] - 4s 5ms/step - loss: 0.4244 - accuracy: 0.8628\n",
            "782/782 [==============================] - 6s 7ms/step - loss: 0.4357 - accuracy: 0.8459\n",
            "Результати порівняння точності моделей на тестових даних:\n",
            "Проста RNN: 0.7745199799537659\n",
            "LSTM: 0.8627600073814392\n",
            "Bidirectional LSTM: 0.8458799719810486\n"
          ]
        },
        {
          "output_type": "display_data",
          "data": {
            "text/plain": [
              "<Figure size 640x480 with 1 Axes>"
            ],
            "image/png": "[encoded data removed]"
          },
          "metadata": {}
        },
        {
          "output_type": "stream",
          "name": "stdout",
          "text": [
            "Висновок:\n",
            "Модель LSTM показала найкращі результати.\n"
          ]
        }
      ]
    },
    {
      "cell_type": "markdown",
      "source": [
        "Порівнюючи ці графіки, можна зробити висновки про те, яка модель (LSTM, Bidirectional LSTM або RNN) найкраще підходить для класифікації рецензій на датасеті imdb згідно з метрикою точності на валідаційних даних протягом епох."
      ],
      "metadata": {
        "id": "4HwZdC-zw1xz"
      }
    }
  ]
}